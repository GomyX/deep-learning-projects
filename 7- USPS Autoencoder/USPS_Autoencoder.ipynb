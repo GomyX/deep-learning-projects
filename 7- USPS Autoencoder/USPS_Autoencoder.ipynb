{
  "nbformat": 4,
  "nbformat_minor": 0,
  "metadata": {
    "colab": {
      "provenance": []
    },
    "kernelspec": {
      "name": "python3",
      "display_name": "Python 3"
    },
    "language_info": {
      "name": "python"
    }
  },
  "cells": [
    {
      "cell_type": "markdown",
      "source": [
        "# USPS Autoencoder"
      ],
      "metadata": {
        "id": "dQB2774HOA_d"
      }
    },
    {
      "cell_type": "markdown",
      "source": [
        "## imports"
      ],
      "metadata": {
        "id": "3hiuDyQGKAyd"
      }
    },
    {
      "cell_type": "code",
      "source": [
        "%matplotlib inline\n",
        "\n",
        "import numpy as np\n",
        "import tensorflow as tf\n",
        "import matplotlib.pyplot as plt"
      ],
      "metadata": {
        "id": "m2XBMPpie_X0"
      },
      "execution_count": null,
      "outputs": []
    },
    {
      "cell_type": "markdown",
      "source": [
        "## import the dataset"
      ],
      "metadata": {
        "id": "sAtpYtnkKEif"
      }
    },
    {
      "cell_type": "code",
      "execution_count": null,
      "metadata": {
        "colab": {
          "base_uri": "https://localhost:8080/"
        },
        "id": "BbnJx56XeTG5",
        "outputId": "b9fdfdf2-613a-4c77-9f8c-c42734d82e4c"
      },
      "outputs": [
        {
          "output_type": "stream",
          "name": "stderr",
          "text": [
            "/usr/local/lib/python3.10/dist-packages/sklearn/datasets/_openml.py:937: UserWarning: Version 1 of dataset USPS is inactive, meaning that issues have been found in the dataset. Try using a newer version from this URL: https://api.openml.org/data/v1/download/18805612/USPS.arff\n",
            "  warn(\n",
            "/usr/local/lib/python3.10/dist-packages/sklearn/datasets/_openml.py:968: FutureWarning: The default value of `parser` will change from `'liac-arff'` to `'auto'` in 1.4. You can set `parser='auto'` to silence this warning. Therefore, an `ImportError` will be raised from 1.4 if the dataset is dense and pandas is not installed. Note that the pandas parser may return different data types. See the Notes Section in fetch_openml's API doc for details.\n",
            "  warn(\n"
          ]
        }
      ],
      "source": [
        "from sklearn.datasets import fetch_openml\n",
        "\n",
        "usps = fetch_openml('usps', version=1)\n",
        "\n",
        "X = usps['data']\n",
        "y = usps['target']\n",
        "X=X.to_numpy()\n",
        "y=y.to_numpy()"
      ]
    },
    {
      "cell_type": "markdown",
      "source": [
        "## print one image"
      ],
      "metadata": {
        "id": "h8QVw-h5KJnD"
      }
    },
    {
      "cell_type": "code",
      "source": [
        "import matplotlib.pyplot as plt\n",
        "plt.figure(figsize=(5,5))\n",
        "# Select an image from the dataset\n",
        "img_index = 70\n",
        "\n",
        "# Reshape the flattened image into its original dimensions (16x16)\n",
        "img = X[img_index].reshape((16,-1))\n",
        "\n",
        "# Plot the image\n",
        "plt.imshow(img, cmap='Greys_r')\n",
        "plt.title('USPS Digit: ' + str(y[img_index]))\n",
        "plt.show()"
      ],
      "metadata": {
        "colab": {
          "base_uri": "https://localhost:8080/",
          "height": 468
        },
        "id": "13ylbz7XevUo",
        "outputId": "bc3d21f1-4910-4279-c413-a106ba4428d6"
      },
      "execution_count": null,
      "outputs": [
        {
          "output_type": "display_data",
          "data": {
            "text/plain": [
              "<Figure size 500x500 with 1 Axes>"
            ],
            "image/png": "[encoded data removed]"
          },
          "metadata": {}
        }
      ]
    },
    {
      "cell_type": "markdown",
      "source": [
        "## split the dataset & visulatize its shape"
      ],
      "metadata": {
        "id": "KBrMEEbwKOx5"
      }
    },
    {
      "cell_type": "code",
      "source": [
        "from sklearn.model_selection import train_test_split\n",
        "\n",
        "X_train, X_test, train_labels, test_labels = train_test_split(X, y, test_size=0.3, random_state=42)\n"
      ],
      "metadata": {
        "id": "FXIJvrxykZ0d"
      },
      "execution_count": null,
      "outputs": []
    },
    {
      "cell_type": "code",
      "source": [
        "len(X_train[0])"
      ],
      "metadata": {
        "colab": {
          "base_uri": "https://localhost:8080/"
        },
        "id": "BJm85wYdla0H",
        "outputId": "2967374d-b8b2-49a2-c987-b68115c470f1"
      },
      "execution_count": null,
      "outputs": [
        {
          "output_type": "execute_result",
          "data": {
            "text/plain": [
              "256"
            ]
          },
          "metadata": {},
          "execution_count": 188
        }
      ]
    },
    {
      "cell_type": "code",
      "source": [
        "train_images = X_train.astype('float32') / 255\n",
        "test_images = X_test.astype('float32') / 255"
      ],
      "metadata": {
        "id": "wYl3otmzk665"
      },
      "execution_count": null,
      "outputs": []
    },
    {
      "cell_type": "code",
      "source": [
        "print('Train', train_images.shape, train_labels.shape)\n",
        "print('Test', test_images.shape, test_labels.shape)"
      ],
      "metadata": {
        "colab": {
          "base_uri": "https://localhost:8080/"
        },
        "id": "QJTVeoJ1lRYZ",
        "outputId": "5ae8b573-17f8-4756-b6dd-de7560eb6e91"
      },
      "execution_count": null,
      "outputs": [
        {
          "output_type": "stream",
          "name": "stdout",
          "text": [
            "Train (6508, 256) (6508,)\n",
            "Test (2790, 256) (2790,)\n"
          ]
        }
      ]
    },
    {
      "cell_type": "markdown",
      "source": [
        "## our autoencoder **model**"
      ],
      "metadata": {
        "id": "nohjw7igKb41"
      }
    },
    {
      "cell_type": "code",
      "metadata": {
        "id": "73BK57iLZXO1"
      },
      "source": [
        "from tensorflow.keras import layers\n",
        "from tensorflow.keras.models import Model\n",
        "\n",
        "encoding_dim = 64   # dimension of the latent representation\n",
        "image_size = train_images.shape[1]\n",
        "\n",
        "# Create input layer. This returns a tensor\n",
        "inputs = layers.Input(shape=(image_size,), name = 'input_image')\n",
        "\n",
        "# Create hidden layer\n",
        "encoded = layers.Dense(encoding_dim,\n",
        "                       activation='relu',\n",
        "                       name = 'encoded')(inputs)\n",
        "                       ## The output of this layer represents the encoding vector\n",
        "\n",
        "# Create output layer\n",
        "output_image = layers.Dense(image_size, # Why?\n",
        "                            activation='linear',\n",
        "                            name = 'reconstructed')(encoded)\n",
        "\n",
        "# Create model\n",
        "model = Model(inputs=inputs, outputs=output_image)\n"
      ],
      "execution_count": null,
      "outputs": []
    },
    {
      "cell_type": "code",
      "metadata": {
        "id": "Kkgjz_c2bCcW",
        "colab": {
          "base_uri": "https://localhost:8080/"
        },
        "outputId": "bd6f9714-f4bb-454c-a52d-6ecd25bf781c"
      },
      "source": [
        "model.summary()"
      ],
      "execution_count": null,
      "outputs": [
        {
          "output_type": "stream",
          "name": "stdout",
          "text": [
            "Model: \"model_58\"\n",
            "_________________________________________________________________\n",
            " Layer (type)                Output Shape              Param #   \n",
            "=================================================================\n",
            " input_image (InputLayer)    [(None, 256)]             0         \n",
            "                                                                 \n",
            " encoded (Dense)             (None, 64)                16448     \n",
            "                                                                 \n",
            " reconstructed (Dense)       (None, 256)               16640     \n",
            "                                                                 \n",
            "=================================================================\n",
            "Total params: 33,088\n",
            "Trainable params: 33,088\n",
            "Non-trainable params: 0\n",
            "_________________________________________________________________\n"
          ]
        }
      ]
    },
    {
      "cell_type": "code",
      "metadata": {
        "id": "LVcgt5HDbUA-",
        "colab": {
          "base_uri": "https://localhost:8080/"
        },
        "outputId": "c63ff097-a74f-414d-c563-d541c625b85e"
      },
      "source": [
        "model.compile(optimizer='adam',\n",
        "              loss='mean_squared_error')\n",
        "\n",
        "model.fit(train_images,\n",
        "          train_images, # train_images are both the inputs and the labels\n",
        "          epochs=70,\n",
        "          batch_size=64)"
      ],
      "execution_count": null,
      "outputs": [
        {
          "output_type": "stream",
          "name": "stdout",
          "text": [
            "Epoch 1/70\n",
            "102/102 [==============================] - 1s 4ms/step - loss: 4.3603e-06\n",
            "Epoch 2/70\n",
            "102/102 [==============================] - 0s 4ms/step - loss: 4.0295e-06\n",
            "Epoch 3/70\n",
            "102/102 [==============================] - 0s 4ms/step - loss: 3.8781e-06\n",
            "Epoch 4/70\n",
            "102/102 [==============================] - 0s 4ms/step - loss: 3.6359e-06\n",
            "Epoch 5/70\n",
            "102/102 [==============================] - 0s 3ms/step - loss: 3.3648e-06\n",
            "Epoch 6/70\n",
            "102/102 [==============================] - 0s 3ms/step - loss: 3.1573e-06\n",
            "Epoch 7/70\n",
            "102/102 [==============================] - 0s 3ms/step - loss: 3.0076e-06\n",
            "Epoch 8/70\n",
            "102/102 [==============================] - 0s 2ms/step - loss: 2.8897e-06\n",
            "Epoch 9/70\n",
            "102/102 [==============================] - 0s 2ms/step - loss: 2.7666e-06\n",
            "Epoch 10/70\n",
            "102/102 [==============================] - 0s 3ms/step - loss: 2.6230e-06\n",
            "Epoch 11/70\n",
            "102/102 [==============================] - 0s 2ms/step - loss: 2.4757e-06\n",
            "Epoch 12/70\n",
            "102/102 [==============================] - 0s 2ms/step - loss: 2.3290e-06\n",
            "Epoch 13/70\n",
            "102/102 [==============================] - 0s 2ms/step - loss: 2.1868e-06\n",
            "Epoch 14/70\n",
            "102/102 [==============================] - 0s 2ms/step - loss: 2.0634e-06\n",
            "Epoch 15/70\n",
            "102/102 [==============================] - 0s 2ms/step - loss: 1.9542e-06\n",
            "Epoch 16/70\n",
            "102/102 [==============================] - 0s 2ms/step - loss: 1.8464e-06\n",
            "Epoch 17/70\n",
            "102/102 [==============================] - 0s 2ms/step - loss: 1.7622e-06\n",
            "Epoch 18/70\n",
            "102/102 [==============================] - 0s 2ms/step - loss: 1.6806e-06\n",
            "Epoch 19/70\n",
            "102/102 [==============================] - 0s 2ms/step - loss: 1.6194e-06\n",
            "Epoch 20/70\n",
            "102/102 [==============================] - 0s 2ms/step - loss: 1.5599e-06\n",
            "Epoch 21/70\n",
            "102/102 [==============================] - 0s 2ms/step - loss: 1.5169e-06\n",
            "Epoch 22/70\n",
            "102/102 [==============================] - 0s 2ms/step - loss: 1.4762e-06\n",
            "Epoch 23/70\n",
            "102/102 [==============================] - 0s 2ms/step - loss: 1.4421e-06\n",
            "Epoch 24/70\n",
            "102/102 [==============================] - 0s 2ms/step - loss: 1.4204e-06\n",
            "Epoch 25/70\n",
            "102/102 [==============================] - 0s 2ms/step - loss: 1.3905e-06\n",
            "Epoch 26/70\n",
            "102/102 [==============================] - 0s 2ms/step - loss: 1.3784e-06\n",
            "Epoch 27/70\n",
            "102/102 [==============================] - 0s 2ms/step - loss: 1.3605e-06\n",
            "Epoch 28/70\n",
            "102/102 [==============================] - 0s 2ms/step - loss: 1.3419e-06\n",
            "Epoch 29/70\n",
            "102/102 [==============================] - 0s 2ms/step - loss: 1.3306e-06\n",
            "Epoch 30/70\n",
            "102/102 [==============================] - 0s 2ms/step - loss: 1.3210e-06\n",
            "Epoch 31/70\n",
            "102/102 [==============================] - 0s 2ms/step - loss: 1.3062e-06\n",
            "Epoch 32/70\n",
            "102/102 [==============================] - 0s 3ms/step - loss: 1.2968e-06\n",
            "Epoch 33/70\n",
            "102/102 [==============================] - 0s 3ms/step - loss: 1.2843e-06\n",
            "Epoch 34/70\n",
            "102/102 [==============================] - 0s 3ms/step - loss: 1.2783e-06\n",
            "Epoch 35/70\n",
            "102/102 [==============================] - 0s 4ms/step - loss: 1.2689e-06\n",
            "Epoch 36/70\n",
            "102/102 [==============================] - 0s 4ms/step - loss: 1.2580e-06\n",
            "Epoch 37/70\n",
            "102/102 [==============================] - 0s 4ms/step - loss: 1.2480e-06\n",
            "Epoch 38/70\n",
            "102/102 [==============================] - 0s 3ms/step - loss: 1.2416e-06\n",
            "Epoch 39/70\n",
            "102/102 [==============================] - 0s 4ms/step - loss: 1.2367e-06\n",
            "Epoch 40/70\n",
            "102/102 [==============================] - 0s 4ms/step - loss: 1.2274e-06\n",
            "Epoch 41/70\n",
            "102/102 [==============================] - 0s 3ms/step - loss: 1.2156e-06\n",
            "Epoch 42/70\n",
            "102/102 [==============================] - 0s 4ms/step - loss: 1.2095e-06\n",
            "Epoch 43/70\n",
            "102/102 [==============================] - 0s 3ms/step - loss: 1.2100e-06\n",
            "Epoch 44/70\n",
            "102/102 [==============================] - 0s 4ms/step - loss: 1.1967e-06\n",
            "Epoch 45/70\n",
            "102/102 [==============================] - 0s 3ms/step - loss: 1.1917e-06\n",
            "Epoch 46/70\n",
            "102/102 [==============================] - 0s 4ms/step - loss: 1.1860e-06\n",
            "Epoch 47/70\n",
            "102/102 [==============================] - 0s 3ms/step - loss: 1.1752e-06\n",
            "Epoch 48/70\n",
            "102/102 [==============================] - 0s 3ms/step - loss: 1.1711e-06\n",
            "Epoch 49/70\n",
            "102/102 [==============================] - 0s 4ms/step - loss: 1.1614e-06\n",
            "Epoch 50/70\n",
            "102/102 [==============================] - 0s 3ms/step - loss: 1.1540e-06\n",
            "Epoch 51/70\n",
            "102/102 [==============================] - 0s 2ms/step - loss: 1.1488e-06\n",
            "Epoch 52/70\n",
            "102/102 [==============================] - 0s 3ms/step - loss: 1.1482e-06\n",
            "Epoch 53/70\n",
            "102/102 [==============================] - 0s 2ms/step - loss: 1.1376e-06\n",
            "Epoch 54/70\n",
            "102/102 [==============================] - 0s 2ms/step - loss: 1.1267e-06\n",
            "Epoch 55/70\n",
            "102/102 [==============================] - 0s 2ms/step - loss: 1.1203e-06\n",
            "Epoch 56/70\n",
            "102/102 [==============================] - 0s 2ms/step - loss: 1.1162e-06\n",
            "Epoch 57/70\n",
            "102/102 [==============================] - 0s 3ms/step - loss: 1.1173e-06\n",
            "Epoch 58/70\n",
            "102/102 [==============================] - 0s 2ms/step - loss: 1.1054e-06\n",
            "Epoch 59/70\n",
            "102/102 [==============================] - 0s 2ms/step - loss: 1.1004e-06\n",
            "Epoch 60/70\n",
            "102/102 [==============================] - 0s 2ms/step - loss: 1.1091e-06\n",
            "Epoch 61/70\n",
            "102/102 [==============================] - 0s 3ms/step - loss: 1.0892e-06\n",
            "Epoch 62/70\n",
            "102/102 [==============================] - 0s 3ms/step - loss: 1.0879e-06\n",
            "Epoch 63/70\n",
            "102/102 [==============================] - 0s 3ms/step - loss: 1.0810e-06\n",
            "Epoch 64/70\n",
            "102/102 [==============================] - 0s 2ms/step - loss: 1.0838e-06\n",
            "Epoch 65/70\n",
            "102/102 [==============================] - 0s 2ms/step - loss: 1.0816e-06\n",
            "Epoch 66/70\n",
            "102/102 [==============================] - 0s 2ms/step - loss: 1.0748e-06\n",
            "Epoch 67/70\n",
            "102/102 [==============================] - 0s 2ms/step - loss: 1.0748e-06\n",
            "Epoch 68/70\n",
            "102/102 [==============================] - 0s 2ms/step - loss: 1.0722e-06\n",
            "Epoch 69/70\n",
            "102/102 [==============================] - 0s 2ms/step - loss: 1.0669e-06\n",
            "Epoch 70/70\n",
            "102/102 [==============================] - 0s 2ms/step - loss: 1.0679e-06\n"
          ]
        },
        {
          "output_type": "execute_result",
          "data": {
            "text/plain": [
              "<keras.callbacks.History at 0x7f4a3acfb880>"
            ]
          },
          "metadata": {},
          "execution_count": 193
        }
      ]
    },
    {
      "cell_type": "markdown",
      "source": [
        "##visulalizing the origninal vs the reconstructed imgs"
      ],
      "metadata": {
        "id": "NkzDRX8zKlIR"
      }
    },
    {
      "cell_type": "code",
      "metadata": {
        "id": "hsXfd8GTYGr4",
        "colab": {
          "base_uri": "https://localhost:8080/",
          "height": 276
        },
        "outputId": "15ad96ab-2675-4df6-deff-b8733bb5656a"
      },
      "source": [
        "fig, axes = plt.subplots(nrows=2,\n",
        "                         ncols=10,\n",
        "                         sharex=True,\n",
        "                         sharey=True,\n",
        "                         figsize=(20,4)\n",
        "                         )\n",
        "\n",
        "# Get first few samples of test images\n",
        "in_imgs = test_images[:10]\n",
        "\n",
        "# Get model's reconstructions\n",
        "reconstructed = model.predict(in_imgs)\n",
        "\n",
        "# Loop over rows of plot\n",
        "for images, row in zip([in_imgs, reconstructed], axes):\n",
        "    # Loop over images in each row\n",
        "    for img, ax in zip(images, row):\n",
        "        ax.imshow(img.reshape((16, 16)), cmap='Greys_r')\n",
        "        ax.get_xaxis().set_visible(False)\n",
        "        ax.get_yaxis().set_visible(False)\n",
        "\n",
        "fig.tight_layout(pad=0.1)"
      ],
      "execution_count": null,
      "outputs": [
        {
          "output_type": "stream",
          "name": "stdout",
          "text": [
            "1/1 [==============================] - 0s 55ms/step\n"
          ]
        },
        {
          "output_type": "display_data",
          "data": {
            "text/plain": [
              "<Figure size 2000x400 with 20 Axes>"
            ],
            "image/png": "[encoded data removed]"
          },
          "metadata": {}
        }
      ]
    },
    {
      "cell_type": "markdown",
      "source": [
        "##visulalizing the origninal vs the intermediate output form the bottelneck vs the reconstructed imgs"
      ],
      "metadata": {
        "id": "ZzZwrZzbKtVQ"
      }
    },
    {
      "cell_type": "code",
      "source": [
        "import keras\n",
        "from keras.models import Model\n",
        "fig, axes = plt.subplots(nrows=3, ncols=10, figsize=(20,4))\n",
        "\n",
        "[_.set_axis_off() for _ in axes.flatten()]\n",
        "\n",
        "layer_name = 'encoded'\n",
        "intermediate_layer_model = Model(inputs=model.input, outputs=model.get_layer(layer_name).output)\n",
        "intermediate_output = intermediate_layer_model.predict(test_images[:10])\n",
        "\n",
        "[ax.imshow(img.reshape((8, 8)), cmap='Greys_r') if ax.get_position().y0==axes[1][0].get_position().y0 else ax.imshow(img.reshape((16, 16)), cmap='Greys_r') for img, ax in zip([in_imgs[i].reshape(1,-1) for i in range(in_imgs.shape[0])] + [intermediate_output[i].reshape(1,-1) for i in range(intermediate_output.shape[0])] + [reconstructed[i].reshape(1,-1) for i in range(reconstructed.shape[0])], axes.flatten())];\n",
        "\n",
        "fig.tight_layout(pad=0.1)\n",
        "\n"
      ],
      "metadata": {
        "colab": {
          "base_uri": "https://localhost:8080/",
          "height": 292
        },
        "id": "7JgVPPHCs070",
        "outputId": "4303558f-3e6c-4f3b-f8ed-bf107fe8c4e2"
      },
      "execution_count": null,
      "outputs": [
        {
          "output_type": "stream",
          "name": "stdout",
          "text": [
            "1/1 [==============================] - 0s 53ms/step\n"
          ]
        },
        {
          "output_type": "display_data",
          "data": {
            "text/plain": [
              "<Figure size 2000x400 with 30 Axes>"
            ],
            "image/png": "[encoded data removed]"
          },
          "metadata": {}
        }
      ]
    }
  ]
}